{
 "cells": [
  {
   "cell_type": "code",
   "execution_count": 1,
   "id": "8b64807f",
   "metadata": {},
   "outputs": [
    {
     "name": "stdout",
     "output_type": "stream",
     "text": [
      "Requirement already satisfied: findspark in d:\\anaconda-3\\lib\\site-packages (2.0.1)\n"
     ]
    },
    {
     "name": "stderr",
     "output_type": "stream",
     "text": [
      "WARNING: Ignoring invalid distribution -arkupsafe (d:\\anaconda-3\\lib\\site-packages)\n",
      "WARNING: Ignoring invalid distribution -arkupsafe (d:\\anaconda-3\\lib\\site-packages)\n",
      "WARNING: Ignoring invalid distribution -arkupsafe (d:\\anaconda-3\\lib\\site-packages)\n",
      "WARNING: Ignoring invalid distribution -arkupsafe (d:\\anaconda-3\\lib\\site-packages)\n",
      "WARNING: Ignoring invalid distribution -arkupsafe (d:\\anaconda-3\\lib\\site-packages)\n",
      "WARNING: Ignoring invalid distribution -arkupsafe (d:\\anaconda-3\\lib\\site-packages)\n",
      "WARNING: You are using pip version 22.0.4; however, version 22.2.2 is available.\n",
      "You should consider upgrading via the 'd:\\anaconda-3\\python.exe -m pip install --upgrade pip' command.\n"
     ]
    }
   ],
   "source": [
    "!pip install findspark"
   ]
  },
  {
   "cell_type": "code",
   "execution_count": 1,
   "id": "e1950ab6",
   "metadata": {},
   "outputs": [],
   "source": [
    "import findspark"
   ]
  },
  {
   "cell_type": "code",
   "execution_count": 2,
   "id": "6c29c114",
   "metadata": {},
   "outputs": [
    {
     "data": {
      "text/plain": [
       "'C:\\\\spark-3.0.3-bin-hadoop3.2'"
      ]
     },
     "execution_count": 2,
     "metadata": {},
     "output_type": "execute_result"
    }
   ],
   "source": [
    "findspark.find()"
   ]
  },
  {
   "cell_type": "code",
   "execution_count": 3,
   "id": "1d7c2b89",
   "metadata": {},
   "outputs": [],
   "source": [
    "findspark.init()"
   ]
  },
  {
   "cell_type": "code",
   "execution_count": 4,
   "id": "cd86dfc6",
   "metadata": {},
   "outputs": [],
   "source": [
    "from pyspark import SparkContext"
   ]
  },
  {
   "cell_type": "code",
   "execution_count": 5,
   "id": "8344107e",
   "metadata": {},
   "outputs": [],
   "source": [
    "import os\n",
    "import pandas as pd\n",
    "import numpy as np\n",
    "\n",
    "from pyspark import SparkConf, SparkContext\n",
    "from pyspark.sql import SparkSession, SQLContext\n",
    "\n",
    "from pyspark.sql.types import *\n",
    "import pyspark.sql.functions as F\n",
    "from pyspark.sql.functions import udf, col"
   ]
  },
  {
   "cell_type": "code",
   "execution_count": 6,
   "id": "6057ed76",
   "metadata": {},
   "outputs": [],
   "source": [
    "# Visualization\n",
    "import seaborn as sns\n",
    "import matplotlib.pyplot as plt"
   ]
  },
  {
   "cell_type": "code",
   "execution_count": 7,
   "id": "88eb18ef",
   "metadata": {},
   "outputs": [],
   "source": [
    "# Visualization\n",
    "from IPython.core.interactiveshell import InteractiveShell\n",
    "InteractiveShell.ast_node_interactivity = \"all\"\n",
    "\n",
    "pd.set_option('display.max_columns', 50)\n",
    "pd.set_option('display.max_colwidth', 50)\n",
    "\n",
    "from matplotlib import rcParams\n",
    "sns.set(context='notebook', style='whitegrid', rc={'figure.figsize': (6,4)})\n",
    "rcParams['figure.figsize'] = 6,4\n",
    "\n",
    "# this allows plots to appear directly in the notebook\n",
    "%matplotlib inline\n",
    "%config InlineBackend.figure_format = 'retina'"
   ]
  },
  {
   "cell_type": "code",
   "execution_count": 8,
   "id": "1ab78326",
   "metadata": {},
   "outputs": [],
   "source": [
    "# setting random seed for notebook reproducability\n",
    "rnd_seed=42\n",
    "np.random.seed=rnd_seed\n",
    "np.random.set_state=rnd_seed"
   ]
  },
  {
   "cell_type": "code",
   "execution_count": 9,
   "id": "6b875d28",
   "metadata": {},
   "outputs": [],
   "source": [
    "spark = (SparkSession\n",
    "         .builder\n",
    "         .master(\"local[*]\")\n",
    "         .appName(\"practice-pyspark\")\n",
    "         .getOrCreate())"
   ]
  },
  {
   "cell_type": "code",
   "execution_count": 10,
   "id": "64ffad56",
   "metadata": {},
   "outputs": [
    {
     "data": {
      "text/html": [
       "\n",
       "            <div>\n",
       "                <p><b>SparkSession - in-memory</b></p>\n",
       "                \n",
       "        <div>\n",
       "            <p><b>SparkContext</b></p>\n",
       "\n",
       "            <p><a href=\"http://MSI:4044\">Spark UI</a></p>\n",
       "\n",
       "            <dl>\n",
       "              <dt>Version</dt>\n",
       "                <dd><code>v3.0.3</code></dd>\n",
       "              <dt>Master</dt>\n",
       "                <dd><code>local[*]</code></dd>\n",
       "              <dt>AppName</dt>\n",
       "                <dd><code>practice-pyspark</code></dd>\n",
       "            </dl>\n",
       "        </div>\n",
       "        \n",
       "            </div>\n",
       "        "
      ],
      "text/plain": [
       "<pyspark.sql.session.SparkSession at 0x14caf550ee0>"
      ]
     },
     "execution_count": 10,
     "metadata": {},
     "output_type": "execute_result"
    }
   ],
   "source": [
    "spark"
   ]
  },
  {
   "cell_type": "code",
   "execution_count": 11,
   "id": "b96852f4",
   "metadata": {},
   "outputs": [
    {
     "data": {
      "text/html": [
       "\n",
       "        <div>\n",
       "            <p><b>SparkContext</b></p>\n",
       "\n",
       "            <p><a href=\"http://MSI:4044\">Spark UI</a></p>\n",
       "\n",
       "            <dl>\n",
       "              <dt>Version</dt>\n",
       "                <dd><code>v3.0.3</code></dd>\n",
       "              <dt>Master</dt>\n",
       "                <dd><code>local[*]</code></dd>\n",
       "              <dt>AppName</dt>\n",
       "                <dd><code>practice-pyspark</code></dd>\n",
       "            </dl>\n",
       "        </div>\n",
       "        "
      ],
      "text/plain": [
       "<SparkContext master=local[*] appName=practice-pyspark>"
      ]
     },
     "execution_count": 11,
     "metadata": {},
     "output_type": "execute_result"
    }
   ],
   "source": [
    "sc = spark.sparkContext\n",
    "sc"
   ]
  },
  {
   "cell_type": "code",
   "execution_count": 12,
   "id": "159ef495",
   "metadata": {},
   "outputs": [
    {
     "data": {
      "text/plain": [
       "<pyspark.sql.context.SQLContext at 0x14caa83e1f0>"
      ]
     },
     "execution_count": 12,
     "metadata": {},
     "output_type": "execute_result"
    }
   ],
   "source": [
    "sqlContext = SQLContext(spark.sparkContext)\n",
    "sqlContext"
   ]
  },
  {
   "cell_type": "code",
   "execution_count": 13,
   "id": "90f80823",
   "metadata": {},
   "outputs": [],
   "source": [
    "MUSIC_TRACKS_DATA = 'data/tracks.csv'\n",
    "CUSTOMER_DATA     = 'data/cust.csv'\n",
    "CLICKS_DATA       = 'data/clicks.csv'"
   ]
  },
  {
   "cell_type": "code",
   "execution_count": 14,
   "id": "052cc568",
   "metadata": {},
   "outputs": [],
   "source": [
    "# define the schema, corresponding to a line in the csv data file for music\n",
    "music_schema = StructType([\n",
    "    StructField('event_id', IntegerType(), nullable=True),\n",
    "    StructField('customer_id', IntegerType(), nullable=True),\n",
    "    StructField('track_id', StringType(), nullable=True),\n",
    "    StructField('datetime', StringType(), nullable=True),\n",
    "    StructField('is_mobile', IntegerType(), nullable=True),\n",
    "    StructField('zip', IntegerType(), nullable=True)]\n",
    "  )"
   ]
  },
  {
   "cell_type": "code",
   "execution_count": 15,
   "id": "6907b272",
   "metadata": {},
   "outputs": [],
   "source": [
    "# define the schema, corresponding to a line in the csv data file for customer\n",
    "cust_schema = StructType([\n",
    "    StructField('customer_id', IntegerType(), nullable=True),\n",
    "    StructField('name', StringType(), nullable=True),\n",
    "    StructField('gender', IntegerType(), nullable=True),\n",
    "    StructField('address', StringType(), nullable=True),\n",
    "    StructField('zip', IntegerType(), nullable=True),\n",
    "    StructField('sign_date', StringType(), nullable=True),\n",
    "    StructField('status', IntegerType(), nullable=True),\n",
    "    StructField('level', IntegerType(), nullable=True),\n",
    "    StructField('campaign', IntegerType(), nullable=True),\n",
    "    StructField('lnkd_with_apps', IntegerType(), nullable=True)]\n",
    "  )"
   ]
  },
  {
   "cell_type": "code",
   "execution_count": 16,
   "id": "8cc924ff",
   "metadata": {},
   "outputs": [],
   "source": [
    "# define the schema, corresponding to a line in the csv data file for ad click\n",
    "click_schema = StructType([\n",
    "    StructField('event_id', IntegerType(), nullable=True),\n",
    "    StructField('customer_id', IntegerType(), nullable=True),\n",
    "    StructField('ad_clicked', StringType(), nullable=True),\n",
    "    StructField('datetime', StringType(), nullable=True)]\n",
    "  )"
   ]
  },
  {
   "cell_type": "code",
   "execution_count": 17,
   "id": "16b0fc2f",
   "metadata": {},
   "outputs": [],
   "source": [
    "# Load data\n",
    "music_df = spark.read.csv(path=MUSIC_TRACKS_DATA, schema=music_schema).cache()\n",
    "music_df.createOrReplaceTempView(\"music\")\n",
    "\n",
    "cust_df = spark.read.csv(path=CUSTOMER_DATA, schema=cust_schema, header=True).cache()\n",
    "cust_df.createOrReplaceTempView(\"cust\")\n",
    "\n",
    "click_df = spark.read.csv(path=CLICKS_DATA, schema=click_schema, header=False).cache()\n",
    "click_df.createOrReplaceTempView(\"click\")"
   ]
  },
  {
   "cell_type": "code",
   "execution_count": 18,
   "id": "672ad920",
   "metadata": {},
   "outputs": [
    {
     "data": {
      "text/plain": [
       "1000000"
      ]
     },
     "execution_count": 18,
     "metadata": {},
     "output_type": "execute_result"
    }
   ],
   "source": [
    "# How many music data rows\n",
    "music_df.count()"
   ]
  },
  {
   "cell_type": "code",
   "execution_count": 19,
   "id": "b00f7502",
   "metadata": {},
   "outputs": [
    {
     "name": "stdout",
     "output_type": "stream",
     "text": [
      "+--------+-----------+--------+-------------------+---------+-----+\n",
      "|event_id|customer_id|track_id|           datetime|is_mobile|  zip|\n",
      "+--------+-----------+--------+-------------------+---------+-----+\n",
      "|       0|         48|     453|2014-10-23 03:26:20|        0|72132|\n",
      "|       1|       1081|      19|2014-10-15 18:32:14|        1|17307|\n",
      "|       2|        532|      36|2014-12-10 15:33:16|        1|66216|\n",
      "|       3|       2641|     822|2014-10-20 02:24:55|        1|36690|\n",
      "|       4|       2251|     338|2014-11-18 07:16:05|        1|61377|\n",
      "+--------+-----------+--------+-------------------+---------+-----+\n",
      "only showing top 5 rows\n",
      "\n"
     ]
    }
   ],
   "source": [
    "music_df.show(5)"
   ]
  },
  {
   "cell_type": "code",
   "execution_count": 20,
   "id": "d523e65a",
   "metadata": {},
   "outputs": [
    {
     "data": {
      "text/plain": [
       "5000"
      ]
     },
     "execution_count": 20,
     "metadata": {},
     "output_type": "execute_result"
    }
   ],
   "source": [
    "# How many customer data rows\n",
    "cust_df.count()"
   ]
  },
  {
   "cell_type": "code",
   "execution_count": 21,
   "id": "220c240a",
   "metadata": {},
   "outputs": [
    {
     "name": "stdout",
     "output_type": "stream",
     "text": [
      "+-----------+-------------+------+--------------------+-----+----------+------+-----+--------+--------------+\n",
      "|customer_id|         name|gender|             address|  zip| sign_date|status|level|campaign|lnkd_with_apps|\n",
      "+-----------+-------------+------+--------------------+-----+----------+------+-----+--------+--------------+\n",
      "|          0|Gregory Koval|     0|13004 Easy Cider ...|72132|06/04/2013|     1|    1|       1|             0|\n",
      "|          1|Robert Gordon|     0|10497 Thunder Hic...|17307|07/27/2013|     1|    1|       1|             0|\n",
      "|          2|Paula Peltier|     0|10084 Easy Gate Bend|66216|01/13/2013|     1|    0|       4|             1|\n",
      "|          3|Francine Gray|     0|54845 Bent Pony H...|36690|07/11/2013|     1|    1|       1|             1|\n",
      "|          4| David Garcia|     0|8551 Tawny Fox Villa|61377|09/09/2012|     1|    0|       1|             1|\n",
      "+-----------+-------------+------+--------------------+-----+----------+------+-----+--------+--------------+\n",
      "only showing top 5 rows\n",
      "\n"
     ]
    }
   ],
   "source": [
    "cust_df.show(5)"
   ]
  },
  {
   "cell_type": "code",
   "execution_count": 22,
   "id": "7b141fcc",
   "metadata": {},
   "outputs": [
    {
     "data": {
      "text/plain": [
       "65711"
      ]
     },
     "execution_count": 22,
     "metadata": {},
     "output_type": "execute_result"
    }
   ],
   "source": [
    "# How many ads click data rows\n",
    "click_df.count()"
   ]
  },
  {
   "cell_type": "code",
   "execution_count": 23,
   "id": "ac617079",
   "metadata": {},
   "outputs": [
    {
     "name": "stdout",
     "output_type": "stream",
     "text": [
      "+--------+-----------+--------------------+-------------------+\n",
      "|event_id|customer_id|          ad_clicked|           datetime|\n",
      "+--------+-----------+--------------------+-------------------+\n",
      "|   76611|       2488|   ADV_FREE_REFERRAL|2014-12-25 05:08:59|\n",
      "|  305706|       2476|ADV_DONATION_CHARITY|2014-11-26 22:24:21|\n",
      "|  156074|       1307|   ADV_FREE_REFERRAL|2014-10-15 03:52:40|\n",
      "|  192762|       1733|   ADV_LIKE_FACEBOOK|2014-10-20 14:55:08|\n",
      "|   76106|          2|   ADV_LIKE_FACEBOOK|2014-11-19 00:22:13|\n",
      "+--------+-----------+--------------------+-------------------+\n",
      "only showing top 5 rows\n",
      "\n"
     ]
    }
   ],
   "source": [
    "click_df.show(5)"
   ]
  },
  {
   "cell_type": "code",
   "execution_count": 24,
   "id": "c57632a7",
   "metadata": {},
   "outputs": [],
   "source": [
    "hourly_music_df = music_df.withColumn('hour', F.hour('datetime')).cache()"
   ]
  },
  {
   "cell_type": "code",
   "execution_count": 25,
   "id": "a096b4b9",
   "metadata": {},
   "outputs": [
    {
     "name": "stdout",
     "output_type": "stream",
     "text": [
      "+--------+-----------+--------+-------------------+---------+-----+----+\n",
      "|event_id|customer_id|track_id|           datetime|is_mobile|  zip|hour|\n",
      "+--------+-----------+--------+-------------------+---------+-----+----+\n",
      "|       0|         48|     453|2014-10-23 03:26:20|        0|72132|   3|\n",
      "|       1|       1081|      19|2014-10-15 18:32:14|        1|17307|  18|\n",
      "|       2|        532|      36|2014-12-10 15:33:16|        1|66216|  15|\n",
      "|       3|       2641|     822|2014-10-20 02:24:55|        1|36690|   2|\n",
      "|       4|       2251|     338|2014-11-18 07:16:05|        1|61377|   7|\n",
      "+--------+-----------+--------+-------------------+---------+-----+----+\n",
      "only showing top 5 rows\n",
      "\n"
     ]
    }
   ],
   "source": [
    "hourly_music_df.show(5)"
   ]
  },
  {
   "cell_type": "code",
   "execution_count": 26,
   "id": "6c4c5fba",
   "metadata": {},
   "outputs": [],
   "source": [
    "hourly_music_df = (hourly_music_df\n",
    "    .withColumn('night', F.when((col('hour') < 5) | (col('hour') >= 22), 1).otherwise(0))\n",
    "    .withColumn('morn', F.when((col('hour') >= 5) & (col('hour') < 12), 1).otherwise(0))\n",
    "    .withColumn('aft', F.when((col('hour') >= 12) & (col('hour') < 17), 1).otherwise(0))\n",
    "    .withColumn('eve', F.when((col('hour') >= 17) & (col('hour') < 22), 1).otherwise(0))\n",
    "    .cache())"
   ]
  },
  {
   "cell_type": "code",
   "execution_count": 27,
   "id": "e37d768a",
   "metadata": {},
   "outputs": [
    {
     "data": {
      "text/plain": [
       "291516"
      ]
     },
     "execution_count": 27,
     "metadata": {},
     "output_type": "execute_result"
    }
   ],
   "source": [
    "hourly_music_df.filter('night == 1').count()"
   ]
  },
  {
   "cell_type": "code",
   "execution_count": 28,
   "id": "dcf5728c",
   "metadata": {},
   "outputs": [],
   "source": [
    "cust_profile_df = (hourly_music_df.select(['customer_id', 'track_id', 'night', 'morn', 'aft', 'eve', 'is_mobile'])\n",
    "     .groupBy('customer_id')\n",
    "     .agg(F.countDistinct('track_id'), F.sum('night'), F.sum('morn'), F.sum('aft'), F.sum('eve'), F.sum('is_mobile'))).cache()"
   ]
  },
  {
   "cell_type": "code",
   "execution_count": 29,
   "id": "598857ac",
   "metadata": {},
   "outputs": [
    {
     "name": "stdout",
     "output_type": "stream",
     "text": [
      "+-----------+---------------+----------+---------+--------+--------+--------------+\n",
      "|customer_id|count(track_id)|sum(night)|sum(morn)|sum(aft)|sum(eve)|sum(is_mobile)|\n",
      "+-----------+---------------+----------+---------+--------+--------+--------------+\n",
      "|        148|            443|       149|      170|     109|     124|           476|\n",
      "|        463|            306|       103|       99|      84|      76|           176|\n",
      "|       1591|            171|        47|       64|      36|      40|            85|\n",
      "|       2366|            143|        55|       46|      30|      25|           113|\n",
      "|       4101|            100|        31|       28|      26|      22|            85|\n",
      "|       1342|            173|        53|       60|      36|      42|           102|\n",
      "|       2659|            119|        42|       43|      22|      22|            59|\n",
      "|       1238|            191|        72|       64|      30|      46|           158|\n",
      "|       4519|            103|        37|       30|      20|      20|            54|\n",
      "|       1580|            162|        44|       52|      43|      41|           134|\n",
      "+-----------+---------------+----------+---------+--------+--------+--------------+\n",
      "only showing top 10 rows\n",
      "\n"
     ]
    }
   ],
   "source": [
    "cust_profile_df.show(10)"
   ]
  },
  {
   "cell_type": "code",
   "execution_count": 30,
   "id": "44fa1352",
   "metadata": {},
   "outputs": [
    {
     "name": "stdout",
     "output_type": "stream",
     "text": [
      "+--------+-----------+--------+-------------------+---------+-----+----+-----+----+---+---+\n",
      "|event_id|customer_id|track_id|           datetime|is_mobile|  zip|hour|night|morn|aft|eve|\n",
      "+--------+-----------+--------+-------------------+---------+-----+----+-----+----+---+---+\n",
      "|       0|         48|     453|2014-10-23 03:26:20|        0|72132|   3|    1|   0|  0|  0|\n",
      "|       1|       1081|      19|2014-10-15 18:32:14|        1|17307|  18|    0|   0|  0|  1|\n",
      "|       2|        532|      36|2014-12-10 15:33:16|        1|66216|  15|    0|   0|  1|  0|\n",
      "|       3|       2641|     822|2014-10-20 02:24:55|        1|36690|   2|    1|   0|  0|  0|\n",
      "|       4|       2251|     338|2014-11-18 07:16:05|        1|61377|   7|    0|   1|  0|  0|\n",
      "|       5|       1811|       6|2014-11-18 02:00:48|        1|20115|   2|    1|   0|  0|  0|\n",
      "|       6|       3644|      24|2014-12-12 15:24:02|        1|15330|  15|    0|   0|  1|  0|\n",
      "|       7|        250|     726|2014-10-07 09:48:53|        0|33570|   9|    0|   1|  0|  0|\n",
      "|       8|       1782|     442|2014-12-30 15:27:31|        1|41240|  15|    0|   0|  1|  0|\n",
      "|       9|       2932|     775|2014-11-12 07:45:55|        0|63565|   7|    0|   1|  0|  0|\n",
      "+--------+-----------+--------+-------------------+---------+-----+----+-----+----+---+---+\n",
      "only showing top 10 rows\n",
      "\n"
     ]
    }
   ],
   "source": [
    "spark.sql(\n",
    "\"\"\"\n",
    "SELECT  *, \n",
    "        HOUR(datetime) as hour, \n",
    "        CASE WHEN HOUR(datetime) < 5 OR HOUR(datetime) >= 22 THEN 1 ELSE 0 END AS night,\n",
    "        CASE WHEN HOUR(datetime) >= 5 AND HOUR(datetime) < 12 THEN 1 ELSE 0 END AS morn,\n",
    "        CASE WHEN HOUR(datetime) >= 12 AND HOUR(datetime) < 17 THEN 1 ELSE 0 END AS aft,\n",
    "        CASE WHEN HOUR(datetime) >= 17 AND HOUR(datetime) < 22 THEN 1 ELSE 0 END AS eve\n",
    "FROM music\n",
    "\"\"\").show(10)"
   ]
  },
  {
   "cell_type": "code",
   "execution_count": 31,
   "id": "be66df32",
   "metadata": {},
   "outputs": [
    {
     "name": "stdout",
     "output_type": "stream",
     "text": [
      "+-----------+------------------------+----------+---------+--------+--------+--------------+\n",
      "|customer_id|count(DISTINCT track_id)|sum(night)|sum(morn)|sum(aft)|sum(eve)|sum(is_mobile)|\n",
      "+-----------+------------------------+----------+---------+--------+--------+--------------+\n",
      "|        148|                     443|       149|      170|     109|     124|           476|\n",
      "|        463|                     306|       103|       99|      84|      76|           176|\n",
      "|       1591|                     171|        47|       64|      36|      40|            85|\n",
      "|       2366|                     143|        55|       46|      30|      25|           113|\n",
      "|       4101|                     100|        31|       28|      26|      22|            85|\n",
      "|       1342|                     173|        53|       60|      36|      42|           102|\n",
      "|       2659|                     119|        42|       43|      22|      22|            59|\n",
      "|       1238|                     191|        72|       64|      30|      46|           158|\n",
      "|       4519|                     103|        37|       30|      20|      20|            54|\n",
      "|       1580|                     162|        44|       52|      43|      41|           134|\n",
      "+-----------+------------------------+----------+---------+--------+--------+--------------+\n",
      "only showing top 10 rows\n",
      "\n"
     ]
    }
   ],
   "source": [
    "spark.sql(\n",
    "\"\"\"\n",
    "SELECT customer_id, COUNT(DISTINCT track_id), SUM(night), SUM(morn), SUM(aft), SUM(eve), SUM(is_mobile) \n",
    "FROM(\n",
    "    SELECT  *, \n",
    "            HOUR(datetime) as hour, \n",
    "            CASE WHEN HOUR(datetime) < 5 OR HOUR(datetime) >= 22 THEN 1 ELSE 0 END AS night,\n",
    "            CASE WHEN HOUR(datetime) >= 5 AND HOUR(datetime) < 12 THEN 1 ELSE 0 END AS morn,\n",
    "            CASE WHEN HOUR(datetime) >= 12 AND HOUR(datetime) < 17 THEN 1 ELSE 0 END AS aft,\n",
    "            CASE WHEN HOUR(datetime) >= 17 AND HOUR(datetime) < 22 THEN 1 ELSE 0 END AS eve\n",
    "    FROM music)\n",
    "GROUP BY customer_id\n",
    "\"\"\").show(10)"
   ]
  },
  {
   "cell_type": "code",
   "execution_count": 32,
   "id": "5d08a0b9",
   "metadata": {},
   "outputs": [
    {
     "name": "stdout",
     "output_type": "stream",
     "text": [
      "+-------+------------------+-----------------+----------------+-----------------+-----------------+------------------+\n",
      "|summary|   count(track_id)|       sum(night)|       sum(morn)|         sum(aft)|         sum(eve)|    sum(is_mobile)|\n",
      "+-------+------------------+-----------------+----------------+-----------------+-----------------+------------------+\n",
      "|  count|              5000|             5000|            5000|             5000|             5000|              5000|\n",
      "|   mean|           170.295|          58.3032|         58.2908|          41.6434|          41.7626|           121.553|\n",
      "| stddev|117.04437556828793|67.27232404842705|67.3964412370437|47.87538247251274|48.01370329792189|148.79537090743347|\n",
      "|    min|                68|               15|              16|                9|                9|                32|\n",
      "|    max|              1617|             2139|            2007|             1460|             1480|              5093|\n",
      "+-------+------------------+-----------------+----------------+-----------------+-----------------+------------------+\n",
      "\n"
     ]
    }
   ],
   "source": [
    "# Referring to cust_profile_df from section 4.1.1 we can use the describe() function to get the summary statistics\n",
    "cust_profile_df.select([c for c in cust_profile_df.columns if c not in ['customer_id']]).describe().show()"
   ]
  },
  {
   "cell_type": "code",
   "execution_count": 33,
   "id": "35150b8d",
   "metadata": {},
   "outputs": [],
   "source": [
    "# store the describe dataframe temporarily\n",
    "summary_stats_df = cust_profile_df.select([c for c in cust_profile_df.columns if c not in ['customer_id']]).describe()"
   ]
  },
  {
   "cell_type": "code",
   "execution_count": 34,
   "id": "f1ed07c7",
   "metadata": {},
   "outputs": [],
   "source": [
    "# loop over the column names and format\n",
    "for col_name in summary_stats_df.columns:\n",
    "    if col_name not in ['summary']:\n",
    "        summary_stats_df = summary_stats_df.withColumn(col_name, F.format_number(col(col_name).cast('float'), 2))"
   ]
  },
  {
   "cell_type": "code",
   "execution_count": 35,
   "id": "483588bd",
   "metadata": {},
   "outputs": [
    {
     "name": "stdout",
     "output_type": "stream",
     "text": [
      "+-------+---------------+----------+---------+--------+--------+--------------+\n",
      "|summary|count(track_id)|sum(night)|sum(morn)|sum(aft)|sum(eve)|sum(is_mobile)|\n",
      "+-------+---------------+----------+---------+--------+--------+--------------+\n",
      "|  count|       5,000.00|  5,000.00| 5,000.00|5,000.00|5,000.00|      5,000.00|\n",
      "|   mean|         170.29|     58.30|    58.29|   41.64|   41.76|        121.55|\n",
      "| stddev|         117.04|     67.27|    67.40|   47.88|   48.01|        148.80|\n",
      "|    min|          68.00|     15.00|    16.00|    9.00|    9.00|         32.00|\n",
      "|    max|       1,617.00|  2,139.00| 2,007.00|1,460.00|1,480.00|      5,093.00|\n",
      "+-------+---------------+----------+---------+--------+--------+--------------+\n",
      "\n"
     ]
    }
   ],
   "source": [
    "summary_stats_df.show()"
   ]
  },
  {
   "cell_type": "code",
   "execution_count": 36,
   "id": "5ba365a4",
   "metadata": {},
   "outputs": [],
   "source": [
    "# lets select only the original columns \n",
    "music_rdd = music_df.select('customer_id', 'track_id', 'datetime', 'is_mobile', 'zip').rdd.cache()"
   ]
  },
  {
   "cell_type": "code",
   "execution_count": 39,
   "id": "24d8f942",
   "metadata": {},
   "outputs": [
    {
     "name": "stdout",
     "output_type": "stream",
     "text": [
      "[Row(customer_id=48, track_id='453', datetime='2014-10-23 03:26:20', is_mobile=0, zip=72132), Row(customer_id=1081, track_id='19', datetime='2014-10-15 18:32:14', is_mobile=1, zip=17307), Row(customer_id=532, track_id='36', datetime='2014-12-10 15:33:16', is_mobile=1, zip=66216), Row(customer_id=2641, track_id='822', datetime='2014-10-20 02:24:55', is_mobile=1, zip=36690), Row(customer_id=2251, track_id='338', datetime='2014-11-18 07:16:05', is_mobile=1, zip=61377)]\n"
     ]
    }
   ],
   "source": [
    "print(music_rdd.take(5))"
   ]
  },
  {
   "cell_type": "code",
   "execution_count": 40,
   "id": "e74bf13b",
   "metadata": {},
   "outputs": [
    {
     "data": {
      "text/plain": [
       "[(48,\n",
       "  Row(customer_id=48, track_id='453', datetime='2014-10-23 03:26:20', is_mobile=0, zip=72132)),\n",
       " (1081,\n",
       "  Row(customer_id=1081, track_id='19', datetime='2014-10-15 18:32:14', is_mobile=1, zip=17307)),\n",
       " (532,\n",
       "  Row(customer_id=532, track_id='36', datetime='2014-12-10 15:33:16', is_mobile=1, zip=66216)),\n",
       " (2641,\n",
       "  Row(customer_id=2641, track_id='822', datetime='2014-10-20 02:24:55', is_mobile=1, zip=36690)),\n",
       " (2251,\n",
       "  Row(customer_id=2251, track_id='338', datetime='2014-11-18 07:16:05', is_mobile=1, zip=61377))]"
      ]
     },
     "execution_count": 40,
     "metadata": {},
     "output_type": "execute_result"
    }
   ],
   "source": [
    "# Use customer_id as the key, we will later group by on this column\n",
    "music_rdd.map(lambda record : (record.customer_id, record)).take(5)"
   ]
  },
  {
   "cell_type": "code",
   "execution_count": 41,
   "id": "d5947ac4",
   "metadata": {},
   "outputs": [],
   "source": [
    "def compute_stats_byuser(tracks):\n",
    "    mcount = morn = aft = eve = night = 0\n",
    "    tracklist = []\n",
    "    for t in tracks:\n",
    "        custid, trackid, dtime, mobile, zip = t\n",
    "        if trackid not in tracklist:\n",
    "            tracklist.append(trackid)\n",
    "        d, t = dtime.split(\" \")\n",
    "        hourofday = int(t.split(\":\")[0])\n",
    "        mcount += mobile\n",
    "        if (hourofday < 5):\n",
    "            night += 1\n",
    "        elif (hourofday < 12):\n",
    "            morn += 1\n",
    "        elif (hourofday < 17):\n",
    "            aft += 1\n",
    "        elif (hourofday < 22):\n",
    "            eve += 1\n",
    "        else:\n",
    "            night += 1\n",
    "    return len(tracklist), morn, aft, eve, night, mcount"
   ]
  },
  {
   "cell_type": "code",
   "execution_count": 42,
   "id": "968d9fc9",
   "metadata": {},
   "outputs": [],
   "source": [
    "cust_profile_rdd = (music_rdd.map(lambda record : (record.customer_id, record))\n",
    "                    .groupByKey().mapValues(lambda tracks: compute_stats_byuser(tracks)))"
   ]
  },
  {
   "cell_type": "code",
   "execution_count": 43,
   "id": "5adc5afb",
   "metadata": {},
   "outputs": [
    {
     "data": {
      "text/plain": [
       "PythonRDD[118] at RDD at PythonRDD.scala:53"
      ]
     },
     "execution_count": 43,
     "metadata": {},
     "output_type": "execute_result"
    }
   ],
   "source": [
    "cust_profile_rdd.cache()"
   ]
  },
  {
   "cell_type": "code",
   "execution_count": 44,
   "id": "6a825e81",
   "metadata": {},
   "outputs": [
    {
     "data": {
      "text/plain": [
       "[(48, (696, 310, 217, 223, 277, 503)),\n",
       " (2064, (137, 38, 32, 39, 36, 69)),\n",
       " (536, (272, 84, 67, 60, 101, 152)),\n",
       " (24, (853, 433, 275, 287, 433, 1192)),\n",
       " (392, (314, 112, 80, 76, 102, 265)),\n",
       " (1432, (190, 55, 36, 43, 66, 97)),\n",
       " (744, (240, 75, 56, 61, 79, 232)),\n",
       " (4840, (100, 30, 22, 17, 39, 60)),\n",
       " (2160, (151, 61, 23, 29, 45, 131)),\n",
       " (472, (302, 111, 76, 79, 88, 165))]"
      ]
     },
     "execution_count": 44,
     "metadata": {},
     "output_type": "execute_result"
    }
   ],
   "source": [
    "cust_profile_rdd.take(10)"
   ]
  },
  {
   "cell_type": "code",
   "execution_count": 45,
   "id": "38ca5af4",
   "metadata": {},
   "outputs": [
    {
     "data": {
      "text/plain": [
       "[(48, (696, 310, 217, 223, 277, 503))]"
      ]
     },
     "execution_count": 45,
     "metadata": {},
     "output_type": "execute_result"
    }
   ],
   "source": [
    "cust_profile_rdd.filter(lambda record: record[0] == 48).take(1)"
   ]
  },
  {
   "cell_type": "code",
   "execution_count": 46,
   "id": "c2ad3377",
   "metadata": {},
   "outputs": [
    {
     "name": "stdout",
     "output_type": "stream",
     "text": [
      "+-----------+---------------+----------+---------+--------+--------+--------------+\n",
      "|customer_id|count(track_id)|sum(night)|sum(morn)|sum(aft)|sum(eve)|sum(is_mobile)|\n",
      "+-----------+---------------+----------+---------+--------+--------+--------------+\n",
      "|         48|            696|       277|      310|     217|     223|           503|\n",
      "+-----------+---------------+----------+---------+--------+--------+--------------+\n",
      "\n"
     ]
    }
   ],
   "source": [
    "cust_profile_df.filter(col('customer_id') == 48).show()"
   ]
  },
  {
   "cell_type": "code",
   "execution_count": 47,
   "id": "8784e5d9",
   "metadata": {},
   "outputs": [],
   "source": [
    "from pyspark.mllib.stat import Statistics "
   ]
  },
  {
   "cell_type": "code",
   "execution_count": 48,
   "id": "88a2713b",
   "metadata": {},
   "outputs": [],
   "source": [
    "# compute aggregate stats for entire track history  \n",
    "summary_stats_ml = Statistics.colStats(cust_profile_rdd.map(lambda x: x[1]))  "
   ]
  },
  {
   "cell_type": "code",
   "execution_count": 49,
   "id": "b50402cb",
   "metadata": {},
   "outputs": [
    {
     "data": {
      "text/plain": [
       "5000"
      ]
     },
     "execution_count": 49,
     "metadata": {},
     "output_type": "execute_result"
    }
   ],
   "source": [
    "summary_stats_ml.count()"
   ]
  },
  {
   "cell_type": "code",
   "execution_count": 50,
   "id": "7ba7a474",
   "metadata": {},
   "outputs": [
    {
     "data": {
      "text/plain": [
       "array([170.295 ,  58.2908,  41.6434,  41.7626,  58.3032, 121.553 ])"
      ]
     },
     "execution_count": 50,
     "metadata": {},
     "output_type": "execute_result"
    }
   ],
   "source": [
    "summary_stats_ml.mean()"
   ]
  },
  {
   "cell_type": "code",
   "execution_count": 51,
   "id": "6dbe520a",
   "metadata": {},
   "outputs": [
    {
     "data": {
      "text/plain": [
       "array([1617., 2007., 1460., 1480., 2139., 5093.])"
      ]
     },
     "execution_count": 51,
     "metadata": {},
     "output_type": "execute_result"
    }
   ],
   "source": [
    "summary_stats_ml.max()"
   ]
  },
  {
   "cell_type": "code",
   "execution_count": 52,
   "id": "07159177",
   "metadata": {},
   "outputs": [
    {
     "data": {
      "text/plain": [
       "array([68., 16.,  9.,  9., 15., 32.])"
      ]
     },
     "execution_count": 52,
     "metadata": {},
     "output_type": "execute_result"
    }
   ],
   "source": [
    "summary_stats_ml.min()"
   ]
  },
  {
   "cell_type": "code",
   "execution_count": 53,
   "id": "2bd9e058",
   "metadata": {},
   "outputs": [
    {
     "name": "stdout",
     "output_type": "stream",
     "text": [
      "+--------+-----------+--------+-------------------+---------+-----+----+\n",
      "|event_id|customer_id|track_id|           datetime|is_mobile|  zip|hour|\n",
      "+--------+-----------+--------+-------------------+---------+-----+----+\n",
      "|       0|         48|     453|2014-10-23 03:26:20|        0|72132|   3|\n",
      "|       1|       1081|      19|2014-10-15 18:32:14|        1|17307|  18|\n",
      "|       2|        532|      36|2014-12-10 15:33:16|        1|66216|  15|\n",
      "|       3|       2641|     822|2014-10-20 02:24:55|        1|36690|   2|\n",
      "|       4|       2251|     338|2014-11-18 07:16:05|        1|61377|   7|\n",
      "|       5|       1811|       6|2014-11-18 02:00:48|        1|20115|   2|\n",
      "|       6|       3644|      24|2014-12-12 15:24:02|        1|15330|  15|\n",
      "|       7|        250|     726|2014-10-07 09:48:53|        0|33570|   9|\n",
      "|       8|       1782|     442|2014-12-30 15:27:31|        1|41240|  15|\n",
      "|       9|       2932|     775|2014-11-12 07:45:55|        0|63565|   7|\n",
      "+--------+-----------+--------+-------------------+---------+-----+----+\n",
      "only showing top 10 rows\n",
      "\n"
     ]
    }
   ],
   "source": [
    "music_df.select('event_id', 'customer_id', 'track_id', 'datetime', 'is_mobile', 'zip', F.hour('datetime').alias('hour')).show(10)"
   ]
  },
  {
   "cell_type": "code",
   "execution_count": 54,
   "id": "518b5d4d",
   "metadata": {},
   "outputs": [
    {
     "name": "stdout",
     "output_type": "stream",
     "text": [
      "+--------+-----------+--------+-------------------+---------+-----+----+------+\n",
      "|event_id|customer_id|track_id|           datetime|is_mobile|  zip|hour|bucket|\n",
      "+--------+-----------+--------+-------------------+---------+-----+----+------+\n",
      "|       0|         48|     453|2014-10-23 03:26:20|        0|72132|   3| night|\n",
      "|       1|       1081|      19|2014-10-15 18:32:14|        1|17307|  18|   eve|\n",
      "|       2|        532|      36|2014-12-10 15:33:16|        1|66216|  15|   aft|\n",
      "|       3|       2641|     822|2014-10-20 02:24:55|        1|36690|   2| night|\n",
      "|       4|       2251|     338|2014-11-18 07:16:05|        1|61377|   7|  morn|\n",
      "|       5|       1811|       6|2014-11-18 02:00:48|        1|20115|   2| night|\n",
      "|       6|       3644|      24|2014-12-12 15:24:02|        1|15330|  15|   aft|\n",
      "|       7|        250|     726|2014-10-07 09:48:53|        0|33570|   9|  morn|\n",
      "|       8|       1782|     442|2014-12-30 15:27:31|        1|41240|  15|   aft|\n",
      "|       9|       2932|     775|2014-11-12 07:45:55|        0|63565|   7|  morn|\n",
      "+--------+-----------+--------+-------------------+---------+-----+----+------+\n",
      "only showing top 10 rows\n",
      "\n"
     ]
    }
   ],
   "source": [
    "# Create the hour buckets\n",
    "(music_df\n",
    " .select('event_id', 'customer_id', 'track_id', 'datetime', 'is_mobile', 'zip', \n",
    "         F.hour('datetime').alias('hour'),\n",
    "         F.when((F.hour('datetime') < 5) | (F.hour('datetime') >= 22), F.lit('night'))\n",
    "          .when((F.hour('datetime') >= 5) & (F.hour('datetime') < 12), F.lit('morn'))\n",
    "          .when((F.hour('datetime') >= 12) & (F.hour('datetime') < 17), F.lit('aft'))\n",
    "          .when((F.hour('datetime') >= 17) & (F.hour('datetime') < 22), F.lit('eve'))\n",
    "          .alias('bucket')) \n",
    ").show(10)"
   ]
  },
  {
   "cell_type": "code",
   "execution_count": 55,
   "id": "158952bb",
   "metadata": {},
   "outputs": [],
   "source": [
    "# Create the hour buckets and then pivot on the hour buckets\n",
    "hourly_pivot_df = (music_df.select('event_id', 'customer_id', 'track_id', 'datetime', 'is_mobile', 'zip', \n",
    "             F.hour('datetime').alias('hour'),\n",
    "             F.when((F.hour('datetime') < 5) | (F.hour('datetime') >= 22), F.lit('night'))\n",
    "              .when((F.hour('datetime') >= 5) & (F.hour('datetime') < 12), F.lit('morn'))\n",
    "              .when((F.hour('datetime') >= 12) & (F.hour('datetime') < 17), F.lit('aft'))\n",
    "              .when((F.hour('datetime') >= 17) & (F.hour('datetime') < 22), F.lit('eve'))\n",
    "              .alias('bucket'))\n",
    "              .select('customer_id', 'bucket')\n",
    "              .groupBy('customer_id')\n",
    "              .pivot('bucket', ['night', 'morn', 'aft', 'eve'])\n",
    "              .agg(F.count('bucket'))\n",
    "           ).cache()"
   ]
  },
  {
   "cell_type": "code",
   "execution_count": 56,
   "id": "b5a04f78",
   "metadata": {},
   "outputs": [
    {
     "name": "stdout",
     "output_type": "stream",
     "text": [
      "+-----------+-----+----+---+---+\n",
      "|customer_id|night|morn|aft|eve|\n",
      "+-----------+-----+----+---+---+\n",
      "|        471|   84|  96| 60| 73|\n",
      "|       3175|   35|  28| 25| 21|\n",
      "|        833|   70|  75| 48| 63|\n",
      "|       1088|   69|  62| 41| 46|\n",
      "|        463|  103|  99| 84| 76|\n",
      "|       1238|   72|  64| 30| 46|\n",
      "|       1645|   55|  42| 54| 35|\n",
      "|       1342|   53|  60| 36| 42|\n",
      "|       1959|   42|  43| 34| 24|\n",
      "|       2366|   55|  46| 30| 25|\n",
      "+-----------+-----+----+---+---+\n",
      "only showing top 10 rows\n",
      "\n"
     ]
    }
   ],
   "source": [
    "hourly_pivot_df.show(10)"
   ]
  },
  {
   "cell_type": "code",
   "execution_count": 57,
   "id": "c97c5de2",
   "metadata": {},
   "outputs": [
    {
     "name": "stdout",
     "output_type": "stream",
     "text": [
      "+-----------+-----+----+---+---+\n",
      "|customer_id|night|morn|aft|eve|\n",
      "+-----------+-----+----+---+---+\n",
      "|         48|  277| 310|217|223|\n",
      "+-----------+-----+----+---+---+\n",
      "\n"
     ]
    }
   ],
   "source": [
    "hourly_pivot_df.filter(col('customer_id') == 48).show()"
   ]
  },
  {
   "cell_type": "code",
   "execution_count": 58,
   "id": "c5fbbc50",
   "metadata": {},
   "outputs": [
    {
     "name": "stdout",
     "output_type": "stream",
     "text": [
      "+-----------+---------------+----------+---------+--------+--------+--------------+\n",
      "|customer_id|count(track_id)|sum(night)|sum(morn)|sum(aft)|sum(eve)|sum(is_mobile)|\n",
      "+-----------+---------------+----------+---------+--------+--------+--------------+\n",
      "|         48|            696|       277|      310|     217|     223|           503|\n",
      "+-----------+---------------+----------+---------+--------+--------+--------------+\n",
      "\n"
     ]
    }
   ],
   "source": [
    "cust_profile_df.filter(col('customer_id') == 48).show()"
   ]
  },
  {
   "cell_type": "code",
   "execution_count": 59,
   "id": "c9045633",
   "metadata": {},
   "outputs": [],
   "source": [
    "tracks_summary_df = (music_df\n",
    " .select('customer_id', 'track_id', 'is_mobile')\n",
    " .groupBy('customer_id')\n",
    " .agg(F.countDistinct('track_id'), F.sum('is_mobile'))\n",
    ").cache()"
   ]
  },
  {
   "cell_type": "code",
   "execution_count": 60,
   "id": "55cb08e6",
   "metadata": {},
   "outputs": [
    {
     "name": "stdout",
     "output_type": "stream",
     "text": [
      "+-----------+---------------+--------------+\n",
      "|customer_id|count(track_id)|sum(is_mobile)|\n",
      "+-----------+---------------+--------------+\n",
      "|        148|            443|           476|\n",
      "|        463|            306|           176|\n",
      "|       1591|            171|            85|\n",
      "|       2366|            143|           113|\n",
      "|       4101|            100|            85|\n",
      "|       1342|            173|           102|\n",
      "|       2659|            119|            59|\n",
      "|       1238|            191|           158|\n",
      "|       4519|            103|            54|\n",
      "|       1580|            162|           134|\n",
      "+-----------+---------------+--------------+\n",
      "only showing top 10 rows\n",
      "\n"
     ]
    }
   ],
   "source": [
    "tracks_summary_df.show(10)"
   ]
  },
  {
   "cell_type": "code",
   "execution_count": 61,
   "id": "cd94ad70",
   "metadata": {},
   "outputs": [
    {
     "ename": "AnalysisException",
     "evalue": "cannot resolve '`count(DISTINCT track_id)`' given input columns: [aft, count(track_id), customer_id, eve, morn, night, sum(is_mobile)];;\n'Project [customer_id#1, 'count(DISTINCT track_id), night#3982L AS sum(night)#11103L, morn#3983L AS sum(morn)#11104L, aft#3984L AS sum(aft)#11105L, eve#3985L AS sum(eve)#11106L, sum(is_mobile)#10916L]\n+- Project [customer_id#1, count(track_id)#10915L, sum(is_mobile)#10916L, night#3982L, morn#3983L, aft#3984L, eve#3985L]\n   +- Join Inner, (customer_id#1 = customer_id#11091)\n      :- Aggregate [customer_id#1], [customer_id#1, count(distinct track_id#2) AS count(track_id)#10915L, sum(cast(is_mobile#4 as bigint)) AS sum(is_mobile)#10916L]\n      :  +- Project [customer_id#1, track_id#2, is_mobile#4]\n      :     +- Relation[event_id#0,customer_id#1,track_id#2,datetime#3,is_mobile#4,zip#5] csv\n      +- Project [customer_id#11091, __pivot_count(`bucket`) AS `count(``bucket``)`#3981[0] AS night#3982L, __pivot_count(`bucket`) AS `count(``bucket``)`#3981[1] AS morn#3983L, __pivot_count(`bucket`) AS `count(``bucket``)`#3981[2] AS aft#3984L, __pivot_count(`bucket`) AS `count(``bucket``)`#3981[3] AS eve#3985L]\n         +- Aggregate [customer_id#11091], [customer_id#11091, pivotfirst(bucket#3956, count(`bucket`)#3971L, night, morn, aft, eve, 0, 0) AS __pivot_count(`bucket`) AS `count(``bucket``)`#3981]\n            +- Aggregate [customer_id#11091, bucket#3956], [customer_id#11091, bucket#3956, count(bucket#3956) AS count(`bucket`)#3971L]\n               +- Project [customer_id#11091, bucket#3956]\n                  +- Project [event_id#11090, customer_id#11091, track_id#11092, datetime#11093, is_mobile#11094, zip#11095, hour(cast(datetime#11093 as timestamp), Some(America/Chicago)) AS hour#3955, CASE WHEN ((hour(cast(datetime#11093 as timestamp), Some(America/Chicago)) < 5) OR (hour(cast(datetime#11093 as timestamp), Some(America/Chicago)) >= 22)) THEN night WHEN ((hour(cast(datetime#11093 as timestamp), Some(America/Chicago)) >= 5) AND (hour(cast(datetime#11093 as timestamp), Some(America/Chicago)) < 12)) THEN morn WHEN ((hour(cast(datetime#11093 as timestamp), Some(America/Chicago)) >= 12) AND (hour(cast(datetime#11093 as timestamp), Some(America/Chicago)) < 17)) THEN aft WHEN ((hour(cast(datetime#11093 as timestamp), Some(America/Chicago)) >= 17) AND (hour(cast(datetime#11093 as timestamp), Some(America/Chicago)) < 22)) THEN eve END AS bucket#3956]\n                     +- Relation[event_id#11090,customer_id#11091,track_id#11092,datetime#11093,is_mobile#11094,zip#11095] csv\n",
     "output_type": "error",
     "traceback": [
      "\u001b[1;31m---------------------------------------------------------------------------\u001b[0m",
      "\u001b[1;31mAnalysisException\u001b[0m                         Traceback (most recent call last)",
      "\u001b[1;32m~\\AppData\\Local\\Temp/ipykernel_21236/3949339815.py\u001b[0m in \u001b[0;36m<module>\u001b[1;34m\u001b[0m\n\u001b[1;32m----> 1\u001b[1;33m (tracks_summary_df\n\u001b[0m\u001b[0;32m      2\u001b[0m  \u001b[1;33m.\u001b[0m\u001b[0mjoin\u001b[0m\u001b[1;33m(\u001b[0m\u001b[0mhourly_pivot_df\u001b[0m\u001b[1;33m,\u001b[0m \u001b[0mon\u001b[0m\u001b[1;33m=\u001b[0m\u001b[1;34m'customer_id'\u001b[0m\u001b[1;33m,\u001b[0m \u001b[0mhow\u001b[0m\u001b[1;33m=\u001b[0m\u001b[1;34m'inner'\u001b[0m\u001b[1;33m)\u001b[0m\u001b[1;33m\u001b[0m\u001b[1;33m\u001b[0m\u001b[0m\n\u001b[0;32m      3\u001b[0m  .select('customer_id', 'count(DISTINCT track_id)', \n\u001b[0;32m      4\u001b[0m          \u001b[0mcol\u001b[0m\u001b[1;33m(\u001b[0m\u001b[1;34m'night'\u001b[0m\u001b[1;33m)\u001b[0m\u001b[1;33m.\u001b[0m\u001b[0malias\u001b[0m\u001b[1;33m(\u001b[0m\u001b[1;34m'sum(night)'\u001b[0m\u001b[1;33m)\u001b[0m\u001b[1;33m,\u001b[0m\u001b[1;33m\u001b[0m\u001b[1;33m\u001b[0m\u001b[0m\n\u001b[0;32m      5\u001b[0m          \u001b[0mcol\u001b[0m\u001b[1;33m(\u001b[0m\u001b[1;34m'morn'\u001b[0m\u001b[1;33m)\u001b[0m\u001b[1;33m.\u001b[0m\u001b[0malias\u001b[0m\u001b[1;33m(\u001b[0m\u001b[1;34m'sum(morn)'\u001b[0m\u001b[1;33m)\u001b[0m\u001b[1;33m,\u001b[0m\u001b[1;33m\u001b[0m\u001b[1;33m\u001b[0m\u001b[0m\n",
      "\u001b[1;32mC:\\spark-3.0.3-bin-hadoop3.2\\python\\pyspark\\sql\\dataframe.py\u001b[0m in \u001b[0;36mselect\u001b[1;34m(self, *cols)\u001b[0m\n\u001b[0;32m   1419\u001b[0m         \u001b[1;33m[\u001b[0m\u001b[0mRow\u001b[0m\u001b[1;33m(\u001b[0m\u001b[0mname\u001b[0m\u001b[1;33m=\u001b[0m\u001b[1;34mu'Alice'\u001b[0m\u001b[1;33m,\u001b[0m \u001b[0mage\u001b[0m\u001b[1;33m=\u001b[0m\u001b[1;36m12\u001b[0m\u001b[1;33m)\u001b[0m\u001b[1;33m,\u001b[0m \u001b[0mRow\u001b[0m\u001b[1;33m(\u001b[0m\u001b[0mname\u001b[0m\u001b[1;33m=\u001b[0m\u001b[1;34mu'Bob'\u001b[0m\u001b[1;33m,\u001b[0m \u001b[0mage\u001b[0m\u001b[1;33m=\u001b[0m\u001b[1;36m15\u001b[0m\u001b[1;33m)\u001b[0m\u001b[1;33m]\u001b[0m\u001b[1;33m\u001b[0m\u001b[1;33m\u001b[0m\u001b[0m\n\u001b[0;32m   1420\u001b[0m         \"\"\"\n\u001b[1;32m-> 1421\u001b[1;33m         \u001b[0mjdf\u001b[0m \u001b[1;33m=\u001b[0m \u001b[0mself\u001b[0m\u001b[1;33m.\u001b[0m\u001b[0m_jdf\u001b[0m\u001b[1;33m.\u001b[0m\u001b[0mselect\u001b[0m\u001b[1;33m(\u001b[0m\u001b[0mself\u001b[0m\u001b[1;33m.\u001b[0m\u001b[0m_jcols\u001b[0m\u001b[1;33m(\u001b[0m\u001b[1;33m*\u001b[0m\u001b[0mcols\u001b[0m\u001b[1;33m)\u001b[0m\u001b[1;33m)\u001b[0m\u001b[1;33m\u001b[0m\u001b[1;33m\u001b[0m\u001b[0m\n\u001b[0m\u001b[0;32m   1422\u001b[0m         \u001b[1;32mreturn\u001b[0m \u001b[0mDataFrame\u001b[0m\u001b[1;33m(\u001b[0m\u001b[0mjdf\u001b[0m\u001b[1;33m,\u001b[0m \u001b[0mself\u001b[0m\u001b[1;33m.\u001b[0m\u001b[0msql_ctx\u001b[0m\u001b[1;33m)\u001b[0m\u001b[1;33m\u001b[0m\u001b[1;33m\u001b[0m\u001b[0m\n\u001b[0;32m   1423\u001b[0m \u001b[1;33m\u001b[0m\u001b[0m\n",
      "\u001b[1;32mC:\\spark-3.0.3-bin-hadoop3.2\\python\\lib\\py4j-0.10.9-src.zip\\py4j\\java_gateway.py\u001b[0m in \u001b[0;36m__call__\u001b[1;34m(self, *args)\u001b[0m\n\u001b[0;32m   1302\u001b[0m \u001b[1;33m\u001b[0m\u001b[0m\n\u001b[0;32m   1303\u001b[0m         \u001b[0manswer\u001b[0m \u001b[1;33m=\u001b[0m \u001b[0mself\u001b[0m\u001b[1;33m.\u001b[0m\u001b[0mgateway_client\u001b[0m\u001b[1;33m.\u001b[0m\u001b[0msend_command\u001b[0m\u001b[1;33m(\u001b[0m\u001b[0mcommand\u001b[0m\u001b[1;33m)\u001b[0m\u001b[1;33m\u001b[0m\u001b[1;33m\u001b[0m\u001b[0m\n\u001b[1;32m-> 1304\u001b[1;33m         return_value = get_return_value(\n\u001b[0m\u001b[0;32m   1305\u001b[0m             answer, self.gateway_client, self.target_id, self.name)\n\u001b[0;32m   1306\u001b[0m \u001b[1;33m\u001b[0m\u001b[0m\n",
      "\u001b[1;32mC:\\spark-3.0.3-bin-hadoop3.2\\python\\pyspark\\sql\\utils.py\u001b[0m in \u001b[0;36mdeco\u001b[1;34m(*a, **kw)\u001b[0m\n\u001b[0;32m    132\u001b[0m                 \u001b[1;31m# Hide where the exception came from that shows a non-Pythonic\u001b[0m\u001b[1;33m\u001b[0m\u001b[1;33m\u001b[0m\u001b[1;33m\u001b[0m\u001b[0m\n\u001b[0;32m    133\u001b[0m                 \u001b[1;31m# JVM exception message.\u001b[0m\u001b[1;33m\u001b[0m\u001b[1;33m\u001b[0m\u001b[1;33m\u001b[0m\u001b[0m\n\u001b[1;32m--> 134\u001b[1;33m                 \u001b[0mraise_from\u001b[0m\u001b[1;33m(\u001b[0m\u001b[0mconverted\u001b[0m\u001b[1;33m)\u001b[0m\u001b[1;33m\u001b[0m\u001b[1;33m\u001b[0m\u001b[0m\n\u001b[0m\u001b[0;32m    135\u001b[0m             \u001b[1;32melse\u001b[0m\u001b[1;33m:\u001b[0m\u001b[1;33m\u001b[0m\u001b[1;33m\u001b[0m\u001b[0m\n\u001b[0;32m    136\u001b[0m                 \u001b[1;32mraise\u001b[0m\u001b[1;33m\u001b[0m\u001b[1;33m\u001b[0m\u001b[0m\n",
      "\u001b[1;32mC:\\spark-3.0.3-bin-hadoop3.2\\python\\pyspark\\sql\\utils.py\u001b[0m in \u001b[0;36mraise_from\u001b[1;34m(e)\u001b[0m\n",
      "\u001b[1;31mAnalysisException\u001b[0m: cannot resolve '`count(DISTINCT track_id)`' given input columns: [aft, count(track_id), customer_id, eve, morn, night, sum(is_mobile)];;\n'Project [customer_id#1, 'count(DISTINCT track_id), night#3982L AS sum(night)#11103L, morn#3983L AS sum(morn)#11104L, aft#3984L AS sum(aft)#11105L, eve#3985L AS sum(eve)#11106L, sum(is_mobile)#10916L]\n+- Project [customer_id#1, count(track_id)#10915L, sum(is_mobile)#10916L, night#3982L, morn#3983L, aft#3984L, eve#3985L]\n   +- Join Inner, (customer_id#1 = customer_id#11091)\n      :- Aggregate [customer_id#1], [customer_id#1, count(distinct track_id#2) AS count(track_id)#10915L, sum(cast(is_mobile#4 as bigint)) AS sum(is_mobile)#10916L]\n      :  +- Project [customer_id#1, track_id#2, is_mobile#4]\n      :     +- Relation[event_id#0,customer_id#1,track_id#2,datetime#3,is_mobile#4,zip#5] csv\n      +- Project [customer_id#11091, __pivot_count(`bucket`) AS `count(``bucket``)`#3981[0] AS night#3982L, __pivot_count(`bucket`) AS `count(``bucket``)`#3981[1] AS morn#3983L, __pivot_count(`bucket`) AS `count(``bucket``)`#3981[2] AS aft#3984L, __pivot_count(`bucket`) AS `count(``bucket``)`#3981[3] AS eve#3985L]\n         +- Aggregate [customer_id#11091], [customer_id#11091, pivotfirst(bucket#3956, count(`bucket`)#3971L, night, morn, aft, eve, 0, 0) AS __pivot_count(`bucket`) AS `count(``bucket``)`#3981]\n            +- Aggregate [customer_id#11091, bucket#3956], [customer_id#11091, bucket#3956, count(bucket#3956) AS count(`bucket`)#3971L]\n               +- Project [customer_id#11091, bucket#3956]\n                  +- Project [event_id#11090, customer_id#11091, track_id#11092, datetime#11093, is_mobile#11094, zip#11095, hour(cast(datetime#11093 as timestamp), Some(America/Chicago)) AS hour#3955, CASE WHEN ((hour(cast(datetime#11093 as timestamp), Some(America/Chicago)) < 5) OR (hour(cast(datetime#11093 as timestamp), Some(America/Chicago)) >= 22)) THEN night WHEN ((hour(cast(datetime#11093 as timestamp), Some(America/Chicago)) >= 5) AND (hour(cast(datetime#11093 as timestamp), Some(America/Chicago)) < 12)) THEN morn WHEN ((hour(cast(datetime#11093 as timestamp), Some(America/Chicago)) >= 12) AND (hour(cast(datetime#11093 as timestamp), Some(America/Chicago)) < 17)) THEN aft WHEN ((hour(cast(datetime#11093 as timestamp), Some(America/Chicago)) >= 17) AND (hour(cast(datetime#11093 as timestamp), Some(America/Chicago)) < 22)) THEN eve END AS bucket#3956]\n                     +- Relation[event_id#11090,customer_id#11091,track_id#11092,datetime#11093,is_mobile#11094,zip#11095] csv\n"
     ]
    }
   ],
   "source": [
    "(tracks_summary_df\n",
    " .join(hourly_pivot_df, on='customer_id', how='inner')\n",
    " .select('customer_id', 'count(DISTINCT track_id)', \n",
    "         col('night').alias('sum(night)'), \n",
    "         col('morn').alias('sum(morn)'), \n",
    "         col('aft').alias('sum(aft)'), \n",
    "         col('eve').alias('sum(eve)'),\n",
    "         'sum(is_mobile)')\n",
    " .filter(col('customer_id') == 48)\n",
    ").show()"
   ]
  },
  {
   "cell_type": "code",
   "execution_count": 62,
   "id": "59bc2983",
   "metadata": {},
   "outputs": [],
   "source": [
    "# Create the hour buckets and then pivot on the hour buckets\n",
    "hourly_pivot_df = (music_df.select('event_id', 'customer_id', 'track_id', 'datetime', 'is_mobile', 'zip', \n",
    "             F.hour('datetime').alias('hour'),\n",
    "             F.when((F.hour('datetime') < 5) | (F.hour('datetime') >= 22), F.lit('night'))\n",
    "              .when((F.hour('datetime') >= 5) & (F.hour('datetime') < 12), F.lit('morn'))\n",
    "              .when((F.hour('datetime') >= 12) & (F.hour('datetime') < 17), F.lit('aft'))\n",
    "              .when((F.hour('datetime') >= 17) & (F.hour('datetime') < 22), F.lit('eve'))\n",
    "              .alias('bucket'))\n",
    "              .select('customer_id', 'bucket')\n",
    "              .groupBy('customer_id')\n",
    "              .pivot('bucket', ['night', 'morn', 'aft', 'eve'])\n",
    "              .agg(F.count('bucket'))\n",
    "           ).cache()"
   ]
  },
  {
   "cell_type": "code",
   "execution_count": 63,
   "id": "db1810c1",
   "metadata": {},
   "outputs": [
    {
     "name": "stdout",
     "output_type": "stream",
     "text": [
      "+-----------+-----+----+---+---+\n",
      "|customer_id|night|morn|aft|eve|\n",
      "+-----------+-----+----+---+---+\n",
      "|        471|   84|  96| 60| 73|\n",
      "|       3175|   35|  28| 25| 21|\n",
      "|        833|   70|  75| 48| 63|\n",
      "|       1088|   69|  62| 41| 46|\n",
      "|        463|  103|  99| 84| 76|\n",
      "|       1238|   72|  64| 30| 46|\n",
      "|       1645|   55|  42| 54| 35|\n",
      "|       1342|   53|  60| 36| 42|\n",
      "|       1959|   42|  43| 34| 24|\n",
      "|       2366|   55|  46| 30| 25|\n",
      "+-----------+-----+----+---+---+\n",
      "only showing top 10 rows\n",
      "\n"
     ]
    }
   ],
   "source": [
    "hourly_pivot_df.show(10)"
   ]
  },
  {
   "cell_type": "code",
   "execution_count": 64,
   "id": "6270302b",
   "metadata": {},
   "outputs": [
    {
     "name": "stdout",
     "output_type": "stream",
     "text": [
      "+-----------+------------------------------------------------+\n",
      "|customer_id|array_of_struct_bucket_count                    |\n",
      "+-----------+------------------------------------------------+\n",
      "|471        |[[night, 84], [morn, 96], [aft, 60], [eve, 73]] |\n",
      "|3175       |[[night, 35], [morn, 28], [aft, 25], [eve, 21]] |\n",
      "|833        |[[night, 70], [morn, 75], [aft, 48], [eve, 63]] |\n",
      "|1088       |[[night, 69], [morn, 62], [aft, 41], [eve, 46]] |\n",
      "|463        |[[night, 103], [morn, 99], [aft, 84], [eve, 76]]|\n",
      "|1238       |[[night, 72], [morn, 64], [aft, 30], [eve, 46]] |\n",
      "|1645       |[[night, 55], [morn, 42], [aft, 54], [eve, 35]] |\n",
      "|1342       |[[night, 53], [morn, 60], [aft, 36], [eve, 42]] |\n",
      "|1959       |[[night, 42], [morn, 43], [aft, 34], [eve, 24]] |\n",
      "|2366       |[[night, 55], [morn, 46], [aft, 30], [eve, 25]] |\n",
      "+-----------+------------------------------------------------+\n",
      "only showing top 10 rows\n",
      "\n"
     ]
    }
   ],
   "source": [
    "(hourly_pivot_df\n",
    "    .select('customer_id', \n",
    "        F.array(\n",
    "            F.struct(F.lit('night').alias('bucket'), col('night').alias('count')), \n",
    "            F.struct(F.lit('morn').alias('bucket'), col('morn').alias('count')),\n",
    "            F.struct(F.lit('aft').alias('bucket'), col('aft').alias('count')),\n",
    "            F.struct(F.lit('eve').alias('bucket'), col('eve').alias('count'))\n",
    "          ).alias('array_of_struct_bucket_count')\n",
    "        )).show(10, truncate=False)"
   ]
  },
  {
   "cell_type": "code",
   "execution_count": 65,
   "id": "2e69f782",
   "metadata": {},
   "outputs": [
    {
     "name": "stdout",
     "output_type": "stream",
     "text": [
      "+-----------+----------------------------+\n",
      "|customer_id|exploded_struct_bucket_count|\n",
      "+-----------+----------------------------+\n",
      "|471        |[night, 84]                 |\n",
      "|471        |[morn, 96]                  |\n",
      "|471        |[aft, 60]                   |\n",
      "|471        |[eve, 73]                   |\n",
      "|3175       |[night, 35]                 |\n",
      "|3175       |[morn, 28]                  |\n",
      "|3175       |[aft, 25]                   |\n",
      "|3175       |[eve, 21]                   |\n",
      "|833        |[night, 70]                 |\n",
      "|833        |[morn, 75]                  |\n",
      "+-----------+----------------------------+\n",
      "only showing top 10 rows\n",
      "\n"
     ]
    }
   ],
   "source": [
    "(hourly_pivot_df\n",
    "    .select('customer_id',    \n",
    "        F.explode(\n",
    "            F.array(\n",
    "                F.struct(F.lit('night').alias('bucket'), col('night').alias('count')), \n",
    "                F.struct(F.lit('morn').alias('bucket'), col('morn').alias('count')),\n",
    "                F.struct(F.lit('aft').alias('bucket'), col('aft').alias('count')),\n",
    "                F.struct(F.lit('eve').alias('bucket'), col('eve').alias('count'))\n",
    "            )\n",
    "          ).alias('exploded_struct_bucket_count')\n",
    "        )).show(10, truncate=False)"
   ]
  },
  {
   "cell_type": "code",
   "execution_count": 66,
   "id": "15c769b6",
   "metadata": {},
   "outputs": [
    {
     "name": "stdout",
     "output_type": "stream",
     "text": [
      "+-----------+------+-----+\n",
      "|customer_id|bucket|count|\n",
      "+-----------+------+-----+\n",
      "|471        |night |84   |\n",
      "|471        |morn  |96   |\n",
      "|3175       |night |35   |\n",
      "|3175       |morn  |28   |\n",
      "|833        |night |70   |\n",
      "|833        |morn  |75   |\n",
      "|1088       |night |69   |\n",
      "|1088       |morn  |62   |\n",
      "|463        |night |103  |\n",
      "|463        |morn  |99   |\n",
      "+-----------+------+-----+\n",
      "only showing top 10 rows\n",
      "\n"
     ]
    }
   ],
   "source": [
    "(hourly_pivot_df\n",
    "    .withColumn('exploded_struct_bucket_count',    \n",
    "        F.explode(\n",
    "            F.array(\n",
    "                F.struct(F.lit('night').alias('bucket'), col('night').alias('count')), \n",
    "                F.struct(F.lit('morn').alias('bucket'), col('morn').alias('count'))\n",
    "            )\n",
    "          )         \n",
    "        )\n",
    "     .selectExpr('customer_id', 'exploded_struct_bucket_count.bucket as bucket', 'exploded_struct_bucket_count.count as count')\n",
    ").show(10, truncate=False)"
   ]
  },
  {
   "cell_type": "code",
   "execution_count": 67,
   "id": "7a912ab7",
   "metadata": {},
   "outputs": [
    {
     "data": {
      "text/plain": [
       "DataFrame[customer_id: int, night: bigint, morn: bigint, aft: bigint, eve: bigint]"
      ]
     },
     "execution_count": 67,
     "metadata": {},
     "output_type": "execute_result"
    }
   ],
   "source": [
    "hourly_pivot_df.unpersist()"
   ]
  },
  {
   "cell_type": "code",
   "execution_count": 68,
   "id": "ed728a79",
   "metadata": {},
   "outputs": [
    {
     "name": "stdout",
     "output_type": "stream",
     "text": [
      "+-----------+-------------+------+--------------------+-----+----------+------+-----+--------+--------------+\n",
      "|customer_id|         name|gender|             address|  zip| sign_date|status|level|campaign|lnkd_with_apps|\n",
      "+-----------+-------------+------+--------------------+-----+----------+------+-----+--------+--------------+\n",
      "|          0|Gregory Koval|     0|13004 Easy Cider ...|72132|06/04/2013|     1|    1|       1|             0|\n",
      "|          1|Robert Gordon|     0|10497 Thunder Hic...|17307|07/27/2013|     1|    1|       1|             0|\n",
      "|          2|Paula Peltier|     0|10084 Easy Gate Bend|66216|01/13/2013|     1|    0|       4|             1|\n",
      "|          3|Francine Gray|     0|54845 Bent Pony H...|36690|07/11/2013|     1|    1|       1|             1|\n",
      "|          4| David Garcia|     0|8551 Tawny Fox Villa|61377|09/09/2012|     1|    0|       1|             1|\n",
      "+-----------+-------------+------+--------------------+-----+----------+------+-----+--------+--------------+\n",
      "only showing top 5 rows\n",
      "\n"
     ]
    }
   ],
   "source": [
    "cust_df.show(5)"
   ]
  },
  {
   "cell_type": "code",
   "execution_count": 69,
   "id": "899e36e6",
   "metadata": {},
   "outputs": [],
   "source": [
    "# Map from level number to actual level string\n",
    "level_map = {0:\"Free\", 1:\"Silver\", 2:\"Gold\"}\n",
    "\n",
    "# Define a udf\n",
    "udfIndexTolevel = udf(lambda x: level_map[x], StringType())"
   ]
  },
  {
   "cell_type": "code",
   "execution_count": 70,
   "id": "d4f195aa",
   "metadata": {},
   "outputs": [],
   "source": [
    "result_df = (cust_df.join(cust_profile_df, on='customer_id', how='inner')\n",
    "                     .select([udfIndexTolevel('level').alias('level'), 'sum(night)', 'sum(morn)', 'sum(aft)', 'sum(eve)'])\n",
    "                     .groupBy('level')\n",
    "                     .agg(F.avg('sum(aft)').alias('Afternoon'), \n",
    "                          F.avg('sum(eve)').alias('Evening'), \n",
    "                          F.avg('sum(morn)').alias('Morning'), \n",
    "                          F.avg('sum(night)').alias(\"Night\")))"
   ]
  },
  {
   "cell_type": "code",
   "execution_count": 71,
   "id": "86e9d6fd",
   "metadata": {},
   "outputs": [
    {
     "name": "stdout",
     "output_type": "stream",
     "text": [
      "+------+------------------+------------------+-----------------+------------------+\n",
      "| level|         Afternoon|           Evening|          Morning|             Night|\n",
      "+------+------------------+------------------+-----------------+------------------+\n",
      "|Silver| 42.12979890310786|42.409506398537474|59.01401584399756| 59.16209628275442|\n",
      "|  Gold|39.868173258003765| 40.22975517890772|56.35969868173258|55.685499058380415|\n",
      "|  Free|  41.6944837340877|41.675035360678926|58.23373408769449|  58.2963224893918|\n",
      "+------+------------------+------------------+-----------------+------------------+\n",
      "\n"
     ]
    }
   ],
   "source": [
    "result_df.cache().show()"
   ]
  },
  {
   "cell_type": "code",
   "execution_count": 72,
   "id": "9baa2055",
   "metadata": {},
   "outputs": [
    {
     "data": {
      "image/png": "[encoded data removed]",
      "text/plain": [
       "<Figure size 864x288 with 1 Axes>"
      ]
     },
     "metadata": {
      "image/png": {
       "height": 284,
       "width": 705
      },
      "needs_background": "light"
     },
     "output_type": "display_data"
    }
   ],
   "source": [
    "result_df.toPandas().plot.bar(x='level', figsize=(12, 4));"
   ]
  },
  {
   "cell_type": "code",
   "execution_count": 73,
   "id": "14563905",
   "metadata": {},
   "outputs": [
    {
     "data": {
      "text/plain": [
       "DataFrame[level: string, Afternoon: double, Evening: double, Morning: double, Night: double]"
      ]
     },
     "execution_count": 73,
     "metadata": {},
     "output_type": "execute_result"
    }
   ],
   "source": [
    "result_df.unpersist()"
   ]
  },
  {
   "cell_type": "code",
   "execution_count": 74,
   "id": "cfdbcd62",
   "metadata": {},
   "outputs": [],
   "source": [
    "result_df = (cust_df.select(['level', (F.when(col('gender') == 0, \"Male\").otherwise(\"Female\")).alias('gender')])\n",
    "                 .groupBy('level')\n",
    "                 .pivot('gender')\n",
    "                 .count()\n",
    "                 .orderBy('level', ascending=False))"
   ]
  },
  {
   "cell_type": "code",
   "execution_count": 75,
   "id": "a095bae0",
   "metadata": {},
   "outputs": [
    {
     "name": "stdout",
     "output_type": "stream",
     "text": [
      "+-----+------+----+\n",
      "|level|Female|Male|\n",
      "+-----+------+----+\n",
      "|    2|   201| 330|\n",
      "|    1|   670| 971|\n",
      "|    0|  1145|1683|\n",
      "+-----+------+----+\n",
      "\n"
     ]
    }
   ],
   "source": [
    "result_df.cache().show()"
   ]
  },
  {
   "cell_type": "code",
   "execution_count": 76,
   "id": "889664f0",
   "metadata": {},
   "outputs": [
    {
     "data": {
      "image/png": "[encoded data removed]",
      "text/plain": [
       "<Figure size 432x288 with 1 Axes>"
      ]
     },
     "metadata": {
      "image/png": {
       "height": 251,
       "width": 380
      },
      "needs_background": "light"
     },
     "output_type": "display_data"
    }
   ],
   "source": [
    "result_df.toPandas().set_index('level').plot.barh(stacked=True);"
   ]
  },
  {
   "cell_type": "code",
   "execution_count": 77,
   "id": "f5c49471",
   "metadata": {},
   "outputs": [
    {
     "data": {
      "text/plain": [
       "DataFrame[level: int, Female: bigint, Male: bigint]"
      ]
     },
     "execution_count": 77,
     "metadata": {},
     "output_type": "execute_result"
    }
   ],
   "source": [
    "result_df.unpersist()"
   ]
  },
  {
   "cell_type": "code",
   "execution_count": 78,
   "id": "42bc23fc",
   "metadata": {},
   "outputs": [],
   "source": [
    "result_df = cust_df.groupBy('zip').count().orderBy('count', ascending=False).limit(10)"
   ]
  },
  {
   "cell_type": "code",
   "execution_count": 79,
   "id": "411bcbb3",
   "metadata": {},
   "outputs": [
    {
     "name": "stdout",
     "output_type": "stream",
     "text": [
      "+-----+-----+\n",
      "|  zip|count|\n",
      "+-----+-----+\n",
      "| 5341|    4|\n",
      "|80821|    4|\n",
      "|71458|    3|\n",
      "|31409|    3|\n",
      "|70446|    3|\n",
      "|20098|    3|\n",
      "|80459|    3|\n",
      "|57445|    3|\n",
      "|78754|    3|\n",
      "|47577|    3|\n",
      "+-----+-----+\n",
      "\n"
     ]
    }
   ],
   "source": [
    "result_df.cache().show()"
   ]
  },
  {
   "cell_type": "code",
   "execution_count": 80,
   "id": "16f59b76",
   "metadata": {},
   "outputs": [
    {
     "data": {
      "image/png": "[encoded data removed]",
      "text/plain": [
       "<Figure size 432x288 with 1 Axes>"
      ]
     },
     "metadata": {
      "image/png": {
       "height": 251,
       "width": 404
      },
      "needs_background": "light"
     },
     "output_type": "display_data"
    }
   ],
   "source": [
    "result_df.toPandas().plot.barh(x='zip');"
   ]
  },
  {
   "cell_type": "code",
   "execution_count": 81,
   "id": "49098bc8",
   "metadata": {},
   "outputs": [
    {
     "data": {
      "text/plain": [
       "DataFrame[zip: int, count: bigint]"
      ]
     },
     "execution_count": 81,
     "metadata": {},
     "output_type": "execute_result"
    }
   ],
   "source": [
    "result_df.unpersist()"
   ]
  },
  {
   "cell_type": "code",
   "execution_count": 82,
   "id": "70d6fd3e",
   "metadata": {},
   "outputs": [],
   "source": [
    "# Map from campaign number to actual campaign description\n",
    "campaign_map = {0:\"None\", 1:\"30DaysFree\", 2:\"SuperBowl\",  3:\"RetailStore\", 4:\"WebOffer\"}\n",
    "\n",
    "# Define a udf\n",
    "udfIndexToCampaign = udf(lambda x: campaign_map[x], StringType())"
   ]
  },
  {
   "cell_type": "code",
   "execution_count": 83,
   "id": "20c80902",
   "metadata": {},
   "outputs": [],
   "source": [
    "result_df = (cust_df.select(udfIndexToCampaign(\"campaign\").alias(\"campaign\"))\n",
    "                 .groupBy('campaign')\n",
    "                 .count()\n",
    "                 .orderBy('count', ascending=True))"
   ]
  },
  {
   "cell_type": "code",
   "execution_count": 84,
   "id": "8b92da06",
   "metadata": {},
   "outputs": [
    {
     "name": "stdout",
     "output_type": "stream",
     "text": [
      "+-----------+-----+\n",
      "|   campaign|count|\n",
      "+-----------+-----+\n",
      "|  SuperBowl|  240|\n",
      "|RetailStore|  489|\n",
      "|       None|  608|\n",
      "|   WebOffer|  750|\n",
      "| 30DaysFree| 2913|\n",
      "+-----------+-----+\n",
      "\n"
     ]
    }
   ],
   "source": [
    "result_df.cache().show()"
   ]
  },
  {
   "cell_type": "code",
   "execution_count": 85,
   "id": "a6b6f617",
   "metadata": {},
   "outputs": [
    {
     "data": {
      "image/png": "[encoded data removed]",
      "text/plain": [
       "<Figure size 432x288 with 1 Axes>"
      ]
     },
     "metadata": {
      "image/png": {
       "height": 251,
       "width": 439
      },
      "needs_background": "light"
     },
     "output_type": "display_data"
    }
   ],
   "source": [
    "result_df.toPandas().plot.barh(x='campaign');"
   ]
  },
  {
   "cell_type": "code",
   "execution_count": 86,
   "id": "7c09d208",
   "metadata": {},
   "outputs": [
    {
     "data": {
      "text/plain": [
       "DataFrame[campaign: string, count: bigint]"
      ]
     },
     "execution_count": 86,
     "metadata": {},
     "output_type": "execute_result"
    }
   ],
   "source": [
    "result_df.unpersist()"
   ]
  },
  {
   "cell_type": "code",
   "execution_count": 87,
   "id": "27c88431",
   "metadata": {},
   "outputs": [],
   "source": [
    "result_df = (music_df.select(['customer_id', 'track_id'])\n",
    "                            .groupBy('customer_id')\n",
    "                            .agg(F.countDistinct('track_id').alias('unique_track_count'))\n",
    "                            .join(cust_df, on='customer_id', how='inner')\n",
    "                            .select([udfIndexTolevel('level').alias('level'), 'unique_track_count'])\n",
    "                            .groupBy('level')\n",
    "                            .agg(F.avg('unique_track_count').alias('avg_unique_track_count')))"
   ]
  },
  {
   "cell_type": "code",
   "execution_count": 88,
   "id": "1b5dbef3",
   "metadata": {},
   "outputs": [
    {
     "name": "stdout",
     "output_type": "stream",
     "text": [
      "+------+----------------------+\n",
      "| level|avg_unique_track_count|\n",
      "+------+----------------------+\n",
      "|Silver|     170.2772699573431|\n",
      "|  Gold|    166.85310734463278|\n",
      "|  Free|     170.9515558698727|\n",
      "+------+----------------------+\n",
      "\n"
     ]
    }
   ],
   "source": [
    "result_df.cache().show()"
   ]
  },
  {
   "cell_type": "code",
   "execution_count": 89,
   "id": "8d7945f3",
   "metadata": {},
   "outputs": [
    {
     "data": {
      "image/png": "[encoded data removed]",
      "text/plain": [
       "<Figure size 432x288 with 1 Axes>"
      ]
     },
     "metadata": {
      "image/png": {
       "height": 251,
       "width": 401
      },
      "needs_background": "light"
     },
     "output_type": "display_data"
    }
   ],
   "source": [
    "result_df.toPandas().sort_values(by='avg_unique_track_count', ascending=False).plot.barh(x='level');"
   ]
  },
  {
   "cell_type": "code",
   "execution_count": 90,
   "id": "aa70cebe",
   "metadata": {},
   "outputs": [
    {
     "data": {
      "text/plain": [
       "DataFrame[level: string, avg_unique_track_count: double]"
      ]
     },
     "execution_count": 90,
     "metadata": {},
     "output_type": "execute_result"
    }
   ],
   "source": [
    "result_df.unpersist()"
   ]
  },
  {
   "cell_type": "code",
   "execution_count": 91,
   "id": "c18147a7",
   "metadata": {},
   "outputs": [],
   "source": [
    "result_df = (music_df.select(['customer_id', 'track_id'])\n",
    "                            .filter(col('is_mobile') == 1)\n",
    "                            .groupBy('customer_id')\n",
    "                            .count()\n",
    "                            .withColumnRenamed('count', 'mobile_track_count')\n",
    "                            .join(cust_df, on='customer_id', how='inner')\n",
    "                            .select([udfIndexTolevel('level').alias('level'), 'mobile_track_count'])\n",
    "                            .groupBy('level')\n",
    "                            .agg(F.avg('mobile_track_count').alias('avg_mobile_track_count'))\n",
    "                            .orderBy('avg_mobile_track_count'))"
   ]
  },
  {
   "cell_type": "code",
   "execution_count": 92,
   "id": "7adc3491",
   "metadata": {},
   "outputs": [
    {
     "name": "stdout",
     "output_type": "stream",
     "text": [
      "+------+----------------------+\n",
      "| level|avg_mobile_track_count|\n",
      "+------+----------------------+\n",
      "|  Free|    100.01308345120226|\n",
      "|Silver|     146.1614868982328|\n",
      "|  Gold|    160.22033898305085|\n",
      "+------+----------------------+\n",
      "\n"
     ]
    }
   ],
   "source": [
    "result_df.cache().show()"
   ]
  },
  {
   "cell_type": "code",
   "execution_count": 93,
   "id": "b2912a77",
   "metadata": {},
   "outputs": [
    {
     "data": {
      "image/png": "[encoded data removed]",
      "text/plain": [
       "<Figure size 432x288 with 1 Axes>"
      ]
     },
     "metadata": {
      "image/png": {
       "height": 251,
       "width": 401
      },
      "needs_background": "light"
     },
     "output_type": "display_data"
    }
   ],
   "source": [
    "result_df.toPandas().sort_values(by='avg_mobile_track_count', ascending=False).plot.barh(x='level');"
   ]
  },
  {
   "cell_type": "code",
   "execution_count": 94,
   "id": "158a3c21",
   "metadata": {},
   "outputs": [
    {
     "data": {
      "text/plain": [
       "DataFrame[level: string, avg_mobile_track_count: double]"
      ]
     },
     "execution_count": 94,
     "metadata": {},
     "output_type": "execute_result"
    }
   ],
   "source": [
    "result_df.unpersist()"
   ]
  },
  {
   "cell_type": "code",
   "execution_count": 95,
   "id": "bea46505",
   "metadata": {},
   "outputs": [
    {
     "data": {
      "text/plain": [
       "DataFrame[event_id: int, customer_id: int, track_id: string, datetime: string, is_mobile: int, zip: int]"
      ]
     },
     "execution_count": 95,
     "metadata": {},
     "output_type": "execute_result"
    },
    {
     "data": {
      "text/plain": [
       "DataFrame[customer_id: int, name: string, gender: int, address: string, zip: int, sign_date: string, status: int, level: int, campaign: int, lnkd_with_apps: int]"
      ]
     },
     "execution_count": 95,
     "metadata": {},
     "output_type": "execute_result"
    },
    {
     "data": {
      "text/plain": [
       "DataFrame[event_id: int, customer_id: int, ad_clicked: string, datetime: string]"
      ]
     },
     "execution_count": 95,
     "metadata": {},
     "output_type": "execute_result"
    }
   ],
   "source": [
    "music_df.unpersist()\n",
    "cust_df.unpersist()\n",
    "click_df.unpersist()"
   ]
  },
  {
   "cell_type": "code",
   "execution_count": 96,
   "id": "5d656b8f",
   "metadata": {},
   "outputs": [],
   "source": [
    "spark.stop()"
   ]
  },
  {
   "cell_type": "code",
   "execution_count": null,
   "id": "83c4b0a0",
   "metadata": {},
   "outputs": [],
   "source": []
  }
 ],
 "metadata": {
  "kernelspec": {
   "display_name": "Python 3 (ipykernel)",
   "language": "python",
   "name": "python3"
  },
  "language_info": {
   "codemirror_mode": {
    "name": "ipython",
    "version": 3
   },
   "file_extension": ".py",
   "mimetype": "text/x-python",
   "name": "python",
   "nbconvert_exporter": "python",
   "pygments_lexer": "ipython3",
   "version": "3.8.8"
  }
 },
 "nbformat": 4,
 "nbformat_minor": 5
}
